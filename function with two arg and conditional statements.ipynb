{
 "cells": [
  {
   "cell_type": "code",
   "execution_count": 1,
   "id": "5fc93bb5",
   "metadata": {},
   "outputs": [
    {
     "name": "stdout",
     "output_type": "stream",
     "text": [
      "No condition satisfied\n"
     ]
    }
   ],
   "source": [
    "def func1(a,b):\n",
    "    if(a==1):\n",
    "        print(\"Coming from if \")\n",
    "    elif(b==1):\n",
    "        print(\"Coming from elif\")\n",
    "    else:\n",
    "        print(\"No condition satisfied\")\n",
    "\n",
    "func1(2,15)"
   ]
  },
  {
   "cell_type": "code",
   "execution_count": 2,
   "id": "9d7294da",
   "metadata": {},
   "outputs": [
    {
     "name": "stdout",
     "output_type": "stream",
     "text": [
      "Coming from if \n"
     ]
    }
   ],
   "source": [
    "func1(1,5)"
   ]
  },
  {
   "cell_type": "code",
   "execution_count": 3,
   "id": "cfcc9bfb",
   "metadata": {},
   "outputs": [
    {
     "name": "stdout",
     "output_type": "stream",
     "text": [
      "Coming from if \n"
     ]
    }
   ],
   "source": [
    "func1(1,1)"
   ]
  },
  {
   "cell_type": "code",
   "execution_count": null,
   "id": "6f50aaa9",
   "metadata": {},
   "outputs": [],
   "source": []
  }
 ],
 "metadata": {
  "kernelspec": {
   "display_name": "Python 3",
   "language": "python",
   "name": "python3"
  },
  "language_info": {
   "codemirror_mode": {
    "name": "ipython",
    "version": 3
   },
   "file_extension": ".py",
   "mimetype": "text/x-python",
   "name": "python",
   "nbconvert_exporter": "python",
   "pygments_lexer": "ipython3",
   "version": "3.8.8"
  }
 },
 "nbformat": 4,
 "nbformat_minor": 5
}
