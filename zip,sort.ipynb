{
 "cells": [
  {
   "cell_type": "code",
   "execution_count": 1,
   "id": "09e319a9",
   "metadata": {},
   "outputs": [
    {
     "name": "stdout",
     "output_type": "stream",
     "text": [
      "[(10, 4), (2, 5), (3, 6), (7, 8)]\n",
      "[(2, 5), (3, 6), (7, 8), (10, 4)]\n"
     ]
    }
   ],
   "source": [
    "l1=[10,2,3,7]\n",
    "l2=[4,5,6,8]\n",
    "t1=list(zip(l1,l2))\n",
    "t1.sort(key = lambda x:x[1])\n",
    "print(t1)\n",
    "t1.sort()\n",
    "print(t1)"
   ]
  },
  {
   "cell_type": "code",
   "execution_count": null,
   "id": "212cb0dd",
   "metadata": {},
   "outputs": [],
   "source": []
  }
 ],
 "metadata": {
  "kernelspec": {
   "display_name": "Python 3",
   "language": "python",
   "name": "python3"
  },
  "language_info": {
   "codemirror_mode": {
    "name": "ipython",
    "version": 3
   },
   "file_extension": ".py",
   "mimetype": "text/x-python",
   "name": "python",
   "nbconvert_exporter": "python",
   "pygments_lexer": "ipython3",
   "version": "3.8.8"
  }
 },
 "nbformat": 4,
 "nbformat_minor": 5
}
