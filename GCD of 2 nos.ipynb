{
 "cells": [
  {
   "cell_type": "code",
   "execution_count": 3,
   "id": "53568e0a",
   "metadata": {},
   "outputs": [
    {
     "name": "stdout",
     "output_type": "stream",
     "text": [
      "80 135\n",
      "5\n"
     ]
    }
   ],
   "source": [
    "a=80\n",
    "b=135\n",
    "print(a,b)\n",
    "r=b%a\n",
    "while(r!=0):\n",
    "    if(r==0):\n",
    "        print(a)\n",
    "    else:\n",
    "        b=a\n",
    "        a=r\n",
    "        r=b%a\n",
    "print(a)"
   ]
  },
  {
   "cell_type": "code",
   "execution_count": null,
   "id": "14328c9c",
   "metadata": {},
   "outputs": [],
   "source": []
  }
 ],
 "metadata": {
  "kernelspec": {
   "display_name": "Python 3",
   "language": "python",
   "name": "python3"
  },
  "language_info": {
   "codemirror_mode": {
    "name": "ipython",
    "version": 3
   },
   "file_extension": ".py",
   "mimetype": "text/x-python",
   "name": "python",
   "nbconvert_exporter": "python",
   "pygments_lexer": "ipython3",
   "version": "3.8.8"
  }
 },
 "nbformat": 4,
 "nbformat_minor": 5
}
