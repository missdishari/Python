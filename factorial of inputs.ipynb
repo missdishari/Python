{
 "cells": [
  {
   "cell_type": "code",
   "execution_count": 6,
   "id": "25e55bb6",
   "metadata": {},
   "outputs": [
    {
     "name": "stdout",
     "output_type": "stream",
     "text": [
      "5\n",
      "the factorial of 5 is 120\n"
     ]
    }
   ],
   "source": [
    "inp=int(input())\n",
    "i=inp\n",
    "fact=1\n",
    "while i>=1:\n",
    "    fact=fact*i\n",
    "    i=i-1\n",
    "print(\"the factorial of\",inp,\"is\",fact)"
   ]
  },
  {
   "cell_type": "code",
   "execution_count": null,
   "id": "07f3274c",
   "metadata": {},
   "outputs": [],
   "source": []
  }
 ],
 "metadata": {
  "kernelspec": {
   "display_name": "Python 3",
   "language": "python",
   "name": "python3"
  },
  "language_info": {
   "codemirror_mode": {
    "name": "ipython",
    "version": 3
   },
   "file_extension": ".py",
   "mimetype": "text/x-python",
   "name": "python",
   "nbconvert_exporter": "python",
   "pygments_lexer": "ipython3",
   "version": "3.8.8"
  }
 },
 "nbformat": 4,
 "nbformat_minor": 5
}
