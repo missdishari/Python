{
 "cells": [
  {
   "cell_type": "code",
   "execution_count": 6,
   "id": "909f4ad1",
   "metadata": {},
   "outputs": [
    {
     "name": "stdout",
     "output_type": "stream",
     "text": [
      "enter the number2\n",
      "prime\n"
     ]
    }
   ],
   "source": [
    "n=int(input(\"enter the number\"))\n",
    "divisor=2\n",
    "for divisor in range(2,n,1):\n",
    "    if(n%divisor==0):\n",
    "        break\n",
    "if(divisor<=n):\n",
    "    print(\"prime\")\n",
    "else:\n",
    "    print(\"composite\")\n"
   ]
  },
  {
   "cell_type": "code",
   "execution_count": null,
   "id": "53b30319",
   "metadata": {},
   "outputs": [],
   "source": []
  }
 ],
 "metadata": {
  "kernelspec": {
   "display_name": "Python 3",
   "language": "python",
   "name": "python3"
  },
  "language_info": {
   "codemirror_mode": {
    "name": "ipython",
    "version": 3
   },
   "file_extension": ".py",
   "mimetype": "text/x-python",
   "name": "python",
   "nbconvert_exporter": "python",
   "pygments_lexer": "ipython3",
   "version": "3.8.8"
  }
 },
 "nbformat": 4,
 "nbformat_minor": 5
}
