{
 "cells": [
  {
   "cell_type": "code",
   "execution_count": 1,
   "id": "3324bb75",
   "metadata": {},
   "outputs": [
    {
     "name": "stdout",
     "output_type": "stream",
     "text": [
      "enter a number371\n",
      "Armstrong\n"
     ]
    }
   ],
   "source": [
    "actual_number=int(input(\"enter a number\"))\n",
    "r=0\n",
    "n=actual_number\n",
    "while(n!=0):\n",
    "    remainder=n%10\n",
    "    r=r+remainder*remainder*remainder\n",
    "    n=int(n/10)\n",
    "if(r==actual_number):\n",
    "   print(\"Armstrong\")\n",
    "else:\n",
    "   print(\"not Armstrong\")"
   ]
  },
  {
   "cell_type": "code",
   "execution_count": null,
   "id": "cab38bca",
   "metadata": {},
   "outputs": [],
   "source": []
  }
 ],
 "metadata": {
  "kernelspec": {
   "display_name": "Python 3",
   "language": "python",
   "name": "python3"
  },
  "language_info": {
   "codemirror_mode": {
    "name": "ipython",
    "version": 3
   },
   "file_extension": ".py",
   "mimetype": "text/x-python",
   "name": "python",
   "nbconvert_exporter": "python",
   "pygments_lexer": "ipython3",
   "version": "3.8.8"
  }
 },
 "nbformat": 4,
 "nbformat_minor": 5
}
