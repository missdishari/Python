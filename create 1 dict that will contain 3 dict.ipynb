{
 "cells": [
  {
   "cell_type": "code",
   "execution_count": 1,
   "id": "c3957fda",
   "metadata": {},
   "outputs": [
    {
     "name": "stdout",
     "output_type": "stream",
     "text": [
      "{'e': 5, 'f': 6, 'c': 3, 'd': 4, 'a': 1, 'b': 2}\n"
     ]
    }
   ],
   "source": [
    "dict1={\"a\":1,\"b\":2}\n",
    "dict2={\"c\":3,\"d\":4}\n",
    "dict3={\"e\":5,\"f\":6}\n",
    "dict4={}\n",
    "dict2.update(dict1)\n",
    "dict3.update(dict2)\n",
    "dict4.update(dict3)\n",
    "print(dict4)"
   ]
  }
 ],
 "metadata": {
  "kernelspec": {
   "display_name": "Python 3",
   "language": "python",
   "name": "python3"
  },
  "language_info": {
   "codemirror_mode": {
    "name": "ipython",
    "version": 3
   },
   "file_extension": ".py",
   "mimetype": "text/x-python",
   "name": "python",
   "nbconvert_exporter": "python",
   "pygments_lexer": "ipython3",
   "version": "3.8.8"
  }
 },
 "nbformat": 4,
 "nbformat_minor": 5
}
